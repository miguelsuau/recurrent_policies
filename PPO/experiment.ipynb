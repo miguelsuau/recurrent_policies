{
 "cells": [
  {
   "cell_type": "code",
   "execution_count": null,
   "metadata": {},
   "outputs": [],
   "source": [
    "from learn import learn, read_parameters\n",
    "from agent import Agent\n",
    "from policy import GRUPolicy\n",
    "import numpy as np\n",
    "from stable_baselines3.common.env_util import make_vec_env"
   ]
  },
  {
   "cell_type": "code",
   "execution_count": null,
   "metadata": {},
   "outputs": [],
   "source": [
    "parameters = read_parameters('default.yaml')\n",
    "env = make_vec_env('warehouse:warehouse-v0', parameters['num_workers'], 0)\n",
    "policy = GRUPolicy(env.observation_space.shape[0], env.action_space.n, parameters['num_workers'])\n",
    "agent = Agent(\n",
    "        policy=policy,\n",
    "        memory_size=parameters['memory_size'],\n",
    "        batch_size=parameters['batch_size'],\n",
    "        seq_len=parameters['seq_len'],\n",
    "        num_epoch=parameters['num_epoch'],\n",
    "        learning_rate=parameters['learning_rate']\n",
    "        )"
   ]
  },
  {
   "cell_type": "code",
   "execution_count": null,
   "metadata": {},
   "outputs": [],
   "source": [
    "learn(env, \n",
    "      agent, \n",
    "      parameters['total_steps'], \n",
    "      parameters['rollout_steps'], \n",
    "      parameters['gamma'], \n",
    "      parameters['lambda']\n",
    "      )"
   ]
  },
  {
   "cell_type": "code",
   "execution_count": null,
   "metadata": {},
   "outputs": [],
   "source": []
  }
 ],
 "metadata": {
  "interpreter": {
   "hash": "8603ca1cc1c3a4f57b008beb75e81a8fbd68c1ac0c7cf6400040c688c43f923f"
  },
  "kernelspec": {
   "display_name": "Python 3.8.10 64-bit ('recurrent-policies-wzo-TIPv': pipenv)",
   "name": "python3"
  },
  "language_info": {
   "name": "python",
   "version": ""
  },
  "orig_nbformat": 4
 },
 "nbformat": 4,
 "nbformat_minor": 2
}