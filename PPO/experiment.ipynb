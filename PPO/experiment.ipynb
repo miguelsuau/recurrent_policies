{
 "cells": [
  {
   "cell_type": "code",
   "execution_count": 6,
   "metadata": {},
   "outputs": [],
   "source": [
    "from learn import learn, read_parameters\n",
    "from agent import Agent\n",
    "from policy import GRUPolicy\n",
    "import numpy as np\n",
    "from stable_baselines3.common.env_util import make_vec_env"
   ]
  },
  {
   "cell_type": "code",
   "execution_count": 19,
   "metadata": {},
   "outputs": [
    {
     "name": "stdout",
     "output_type": "stream",
     "text": [
      "4\n"
     ]
    }
   ],
   "source": [
    "parameters = read_parameters('default.yaml')\n",
    "env = make_vec_env('warehouse:warehouse-v0', parameters['num_workers'], 0)\n",
    "policy = GRUPolicy(env.observation_space.shape[0], env.action_space.n, parameters['num_workers'])\n",
    "agent = Agent(\n",
    "        policy=policy,\n",
    "        memory_size=parameters['memory_size'],\n",
    "        batch_size=parameters['batch_size'],\n",
    "        seq_len=parameters['seq_len'],\n",
    "        num_epoch=parameters['num_epoch'],\n",
    "        learning_rate=parameters['learning_rate']\n",
    "        )"
   ]
  },
  {
   "cell_type": "code",
   "execution_count": 5,
   "metadata": {},
   "outputs": [
    {
     "name": "stdout",
     "output_type": "stream",
     "text": [
      "tensor(-0.1054, grad_fn=<AddBackward0>)\n",
      "tensor(2.3932, grad_fn=<AddBackward0>)\n",
      "tensor(-0.0828, grad_fn=<AddBackward0>)\n",
      "tensor(2.2246, grad_fn=<AddBackward0>)\n",
      "tensor(-0.0176, grad_fn=<AddBackward0>)\n",
      "tensor(2.3184, grad_fn=<AddBackward0>)\n",
      "tensor(-0.0115, grad_fn=<AddBackward0>)\n",
      "tensor(2.4100, grad_fn=<AddBackward0>)\n",
      "tensor(-0.0610, grad_fn=<AddBackward0>)\n",
      "tensor(1.3808, grad_fn=<AddBackward0>)\n",
      "tensor(-0.0177, grad_fn=<AddBackward0>)\n",
      "tensor(0.9034, grad_fn=<AddBackward0>)\n",
      "tensor(-0.0696, grad_fn=<AddBackward0>)\n",
      "tensor(2.4989, grad_fn=<AddBackward0>)\n"
     ]
    }
   ],
   "source": [
    "learn(env, \n",
    "      agent, \n",
    "      parameters['total_steps'], \n",
    "      parameters['rollout_steps'], \n",
    "      parameters['gamma'], \n",
    "      parameters['lambda']\n",
    "      )"
   ]
  },
  {
   "cell_type": "code",
   "execution_count": null,
   "metadata": {},
   "outputs": [],
   "source": []
  }
 ],
 "metadata": {
  "interpreter": {
   "hash": "8603ca1cc1c3a4f57b008beb75e81a8fbd68c1ac0c7cf6400040c688c43f923f"
  },
  "kernelspec": {
   "display_name": "Python 3.8.10 64-bit ('recurrent-policies-wzo-TIPv': pipenv)",
   "name": "python3"
  },
  "language_info": {
   "codemirror_mode": {
    "name": "ipython",
    "version": 3
   },
   "file_extension": ".py",
   "mimetype": "text/x-python",
   "name": "python",
   "nbconvert_exporter": "python",
   "pygments_lexer": "ipython3",
   "version": "3.8.10"
  },
  "orig_nbformat": 4
 },
 "nbformat": 4,
 "nbformat_minor": 2
}